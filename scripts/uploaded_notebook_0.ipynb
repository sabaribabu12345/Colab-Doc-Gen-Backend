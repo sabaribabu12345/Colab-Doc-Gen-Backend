{
  "nbformat": 4,
  "nbformat_minor": 0,
  "metadata": {
    "colab": {
      "provenance": []
    },
    "kernelspec": {
      "name": "python3",
      "display_name": "Python 3"
    },
    "language_info": {
      "name": "python"
    }
  },
  "cells": [
    {
      "cell_type": "code",
      "execution_count": null,
      "metadata": {
        "id": "4KfRBbT4F9OV"
      },
      "outputs": [],
      "source": [
        "import numpy as np\n",
        "import pandas as pd"
      ]
    },
    {
      "cell_type": "code",
      "source": [
        "raw_df = pd.read_excel(\"Raw_Jan_to_May_Pharmatender_Bulk_Downloads_match_TA.xlsx\")"
      ],
      "metadata": {
        "id": "2S40VzQ3GCwz"
      },
      "execution_count": null,
      "outputs": []
    },
    {
      "cell_type": "code",
      "source": [
        "pre_df=raw_df[['Codigo','Pactivo','EspecificacionProveedor', 'EspecificacionComprador']]"
      ],
      "metadata": {
        "id": "8YCFHSAfGK7C"
      },
      "execution_count": null,
      "outputs": []
    },
    {
      "cell_type": "code",
      "source": [
        "import re\n",
        "import pandas as pd\n",
        "\n",
        "## code for Dosage_comprador\n",
        "\n",
        "def extract_dosage(text):\n",
        "    if isinstance(text, str):\n",
        "        text = text.replace(',', '.')\n",
        "\n",
        "        matches = re.findall(\n",
        "r'(\\b\\d+(\\.\\d+)?\\s*(%|MG/ML|mg|ml|UI)\\b|\\b\\d+(\\.\\d+)?(%|MG/ML|mg|ml|UI)\\b|\\b\\d+-\\d+\\s*(%|MG/ML|mg|ml|UI)\\b|\\b\\d+(\\.\\d+)?\\s*(%|MG/ML|mg|ml|UI)(?:/\\d+(\\.\\d+)?\\s*(%|MG/ML|mg|ml|UI))\\b|\\b\\d+(\\.\\d+)?\\s*\\[\\s*(%|MG/ML|mg|ml|UI)\\s*\\]\\s*/\\s*\\d+(\\.\\d+)?\\s*\\[\\s*(%|MG/ML|mg|ml|UI)\\s*\\]\\b|\\b\\d+(\\.\\d+)?(%|MG/ML|mg|ml|UI)(?:/\\d+(\\.\\d+)?(%|MG/ML|mg|ml|UI))\\b|\\b\\d+(\\.\\d+)?(%|MG/ML|mg|ml|UI)\\d+(\\.\\d+)?(%|MG/ML|mg|ml|UI)\\b|\\b\\d+(\\.\\d+)?\\s*(%|MG/ML|mg|ml|UI)\\d+(\\.\\d+)?\\s*(%|MG/ML|mg|ml|UI)\\b)',text, re.IGNORECASE\n",
        "        )\n",
        "\n",
        "        if matches:\n",
        "            return ', '.join([match[0].strip() for match in matches if match[0]])\n",
        "\n",
        "    return ''\n",
        "\n",
        "def remove_duplicates(text):\n",
        "    normalized = [re.sub(r'\\s+', '', item.lower()) for item in re.split(r'(\\d+\\s*[a-zA-Z]+)', text) if item.strip()]\n",
        "\n",
        "    unique_items = []\n",
        "    for item in normalized:\n",
        "        if item not in unique_items:\n",
        "            unique_items.append(item)\n",
        "\n",
        "    return ' '.join(unique_items)\n",
        "\n",
        "pre_df['Dosage_comprador'] = pre_df['EspecificacionComprador'].apply(lambda x: remove_duplicates(extract_dosage(x)))\n",
        "\n",
        "## code for Dosage_pharma_comprador\n",
        "\n",
        "import re\n",
        "import pandas as pd\n",
        "\n",
        "def extract_dosage(text):\n",
        "    if isinstance(text, str):\n",
        "        text = text.replace(',', '.')\n",
        "\n",
        "        matches = re.findall(\n",
        "            r'(\\b\\d+(\\.\\d+)?\\s*(mg|UI)\\b|\\b\\d+(\\.\\d+)?(mg|UI)\\b|\\b\\d+-\\d+\\s*(mg|UI)\\b|\\b\\d+(\\.\\d+)?\\s*(mg|UI)(?:/\\d+(\\.\\d+)?\\s*(mg|UI))\\b|\\b\\d+(\\.\\d+)?\\s*\\[\\s*(mg|UI)\\s*\\]\\s*/\\s*\\d+(\\.\\d+)?\\s*\\[\\s*(mg|UI)\\s*\\]\\b|\\b\\d+(\\.\\d+)?(mg|UI)(?:/\\d+(\\.\\d+)?(mg|UI))\\b|\\b\\d+(\\.\\d+)?(mg|UI)\\d+(\\.\\d+)?(mg|UI)\\b|\\b\\d+(\\.\\d+)?\\s*(mg|UI)\\d+(\\.\\d+)?\\s*(mg|UI)\\b)',          text, re.IGNORECASE\n",
        "        )\n",
        "\n",
        "        if matches:\n",
        "            return ', '.join([match[0].strip() for match in matches if match[0]])\n",
        "\n",
        "    return ''\n",
        "\n",
        "def remove_duplicates(text):\n",
        "    normalized = [re.sub(r'\\s+', '', item.lower()) for item in re.split(r'(\\d+\\s*[a-zA-Z]+)', text) if item.strip()]\n",
        "\n",
        "    unique_items = []\n",
        "    for item in normalized:\n",
        "        if item not in unique_items:\n",
        "            unique_items.append(item)\n",
        "\n",
        "    return ' '.join(unique_items)\n",
        "\n",
        "\n",
        "pre_df['Dosage_pharma_comprador'] = pre_df['EspecificacionComprador'].apply(lambda x: remove_duplicates(extract_dosage(x)))\n",
        "\n",
        "## code for dosage_proveedor\n",
        "\n",
        "import re\n",
        "import pandas as pd\n",
        "\n",
        "def extract_dosage(text):\n",
        "    if isinstance(text, str):\n",
        "        text = text.replace(',', '.')\n",
        "\n",
        "        matches = re.findall(\n",
        "r'(\\b\\d+(\\.\\d+)?\\s*(%|MG/ML|mg|ml|UI)\\b|\\b\\d+(\\.\\d+)?(%|MG/ML|mg|ml|UI)\\b|\\b\\d+-\\d+\\s*(%|MG/ML|mg|ml|UI)\\b|\\b\\d+(\\.\\d+)?\\s*(%|MG/ML|mg|ml|UI)(?:/\\d+(\\.\\d+)?\\s*(%|MG/ML|mg|ml|UI))\\b|\\b\\d+(\\.\\d+)?\\s*\\[\\s*(%|MG/ML|mg|ml|UI)\\s*\\]\\s*/\\s*\\d+(\\.\\d+)?\\s*\\[\\s*(%|MG/ML|mg|ml|UI)\\s*\\]\\b|\\b\\d+(\\.\\d+)?(%|MG/ML|mg|ml|UI)(?:/\\d+(\\.\\d+)?(%|MG/ML|mg|ml|UI))\\b|\\b\\d+(\\.\\d+)?(%|MG/ML|mg|ml|UI)\\d+(\\.\\d+)?(%|MG/ML|mg|ml|UI)\\b|\\b\\d+(\\.\\d+)?\\s*(%|MG/ML|mg|ml|UI)\\d+(\\.\\d+)?\\s*(%|MG/ML|mg|ml|UI)\\b)',            text, re.IGNORECASE\n",
        "        )\n",
        "\n",
        "        if matches:\n",
        "            return ', '.join([match[0].strip() for match in matches if match[0]])\n",
        "\n",
        "    return ''\n",
        "\n",
        "def remove_duplicates(text):\n",
        "    normalized = [re.sub(r'\\s+', '', item.lower()) for item in re.split(r'(\\d+\\s*[a-zA-Z]+)', text) if item.strip()]\n",
        "\n",
        "    unique_items = []\n",
        "    for item in normalized:\n",
        "        if item not in unique_items:\n",
        "            unique_items.append(item)\n",
        "\n",
        "    return ' '.join(unique_items)\n",
        "\n",
        "\n",
        "pre_df['Dosage_proveedor'] = pre_df['EspecificacionProveedor'].apply(lambda x: remove_duplicates(extract_dosage(x)))\n",
        "\n",
        "# code for Dosage_pharma_proveedor\n",
        "import re\n",
        "import pandas as pd\n",
        "\n",
        "def extract_dosage(text):\n",
        "    if isinstance(text, str):\n",
        "        text = text.replace(',', '.')\n",
        "\n",
        "        matches = re.findall(\n",
        "r'(\\b\\d+(\\.\\d+)?\\s*(mg|UI)\\b|\\b\\d+(\\.\\d+)?(mg|UI)\\b|\\b\\d+-\\d+\\s*(mg|UI)\\b|\\b\\d+(\\.\\d+)?\\s*(mg|UI)(?:/\\d+(\\.\\d+)?\\s*(mg|UI))\\b|\\b\\d+(\\.\\d+)?\\s*\\[\\s*(mg|UI)\\s*\\]\\s*/\\s*\\d+(\\.\\d+)?\\s*\\[\\s*(mg|UI)\\s*\\]\\b|\\b\\d+(\\.\\d+)?(mg|UI)(?:/\\d+(\\.\\d+)?(mg|UI))\\b|\\b\\d+(\\.\\d+)?(mg|UI)\\d+(\\.\\d+)?(mg|UI)\\b|\\b\\d+(\\.\\d+)?\\s*(mg|UI)\\d+(\\.\\d+)?\\s*(mg|UI)\\b)',            text, re.IGNORECASE      )\n",
        "\n",
        "        if matches:\n",
        "            return ', '.join([match[0].strip() for match in matches if match[0]])\n",
        "\n",
        "    return ''\n",
        "\n",
        "def remove_duplicates(text):\n",
        "    normalized = [re.sub(r'\\s+', '', item.lower()) for item in re.split(r'(\\d+\\s*[a-zA-Z]+)', text) if item.strip()]\n",
        "\n",
        "    unique_items = []\n",
        "    for item in normalized:\n",
        "        if item not in unique_items:\n",
        "            unique_items.append(item)\n",
        "\n",
        "    return ' '.join(unique_items)\n",
        "\n",
        "\n",
        "pre_df['Dosage_pharma_proveedor'] = pre_df['EspecificacionProveedor'].apply(lambda x: remove_duplicates(extract_dosage(x)))\n",
        "\n",
        "pre_df['Dosage_Final'] = pre_df['Dosage_comprador'].where(pre_df['Dosage_comprador'] != 'notfound', pre_df['Dosage_proveedor'])\n",
        "pre_df['Dosage_pharma'] = pre_df['Dosage_pharma_comprador'].where(pre_df['Dosage_pharma_comprador'] != 'notfound', pre_df['Dosage_pharma_proveedor'])\n"
      ],
      "metadata": {
        "colab": {
          "base_uri": "https://localhost:8080/"
        },
        "id": "lcXbiQzEGai2",
        "outputId": "efae5506-6bfe-48da-9ba5-5db0480f9583"
      },
      "execution_count": null,
      "outputs": [
        {
          "output_type": "stream",
          "name": "stderr",
          "text": [
            "<ipython-input-9-3eb6116974bf>:29: SettingWithCopyWarning: \n",
            "A value is trying to be set on a copy of a slice from a DataFrame.\n",
            "Try using .loc[row_indexer,col_indexer] = value instead\n",
            "\n",
            "See the caveats in the documentation: https://pandas.pydata.org/pandas-docs/stable/user_guide/indexing.html#returning-a-view-versus-a-copy\n",
            "  pre_df['Dosage_comprador'] = pre_df['EspecificacionComprador'].apply(lambda x: remove_duplicates(extract_dosage(x)))\n",
            "<ipython-input-9-3eb6116974bf>:60: SettingWithCopyWarning: \n",
            "A value is trying to be set on a copy of a slice from a DataFrame.\n",
            "Try using .loc[row_indexer,col_indexer] = value instead\n",
            "\n",
            "See the caveats in the documentation: https://pandas.pydata.org/pandas-docs/stable/user_guide/indexing.html#returning-a-view-versus-a-copy\n",
            "  pre_df['Dosage_pharma_comprador'] = pre_df['EspecificacionComprador'].apply(lambda x: remove_duplicates(extract_dosage(x)))\n",
            "<ipython-input-9-3eb6116974bf>:91: SettingWithCopyWarning: \n",
            "A value is trying to be set on a copy of a slice from a DataFrame.\n",
            "Try using .loc[row_indexer,col_indexer] = value instead\n",
            "\n",
            "See the caveats in the documentation: https://pandas.pydata.org/pandas-docs/stable/user_guide/indexing.html#returning-a-view-versus-a-copy\n",
            "  pre_df['Dosage_proveedor'] = pre_df['EspecificacionProveedor'].apply(lambda x: remove_duplicates(extract_dosage(x)))\n",
            "<ipython-input-9-3eb6116974bf>:120: SettingWithCopyWarning: \n",
            "A value is trying to be set on a copy of a slice from a DataFrame.\n",
            "Try using .loc[row_indexer,col_indexer] = value instead\n",
            "\n",
            "See the caveats in the documentation: https://pandas.pydata.org/pandas-docs/stable/user_guide/indexing.html#returning-a-view-versus-a-copy\n",
            "  pre_df['Dosage_pharma_proveedor'] = pre_df['EspecificacionProveedor'].apply(lambda x: remove_duplicates(extract_dosage(x)))\n",
            "<ipython-input-9-3eb6116974bf>:122: SettingWithCopyWarning: \n",
            "A value is trying to be set on a copy of a slice from a DataFrame.\n",
            "Try using .loc[row_indexer,col_indexer] = value instead\n",
            "\n",
            "See the caveats in the documentation: https://pandas.pydata.org/pandas-docs/stable/user_guide/indexing.html#returning-a-view-versus-a-copy\n",
            "  pre_df['Dosage_Final'] = pre_df['Dosage_comprador'].where(pre_df['Dosage_comprador'] != 'notfound', pre_df['Dosage_proveedor'])\n",
            "<ipython-input-9-3eb6116974bf>:123: SettingWithCopyWarning: \n",
            "A value is trying to be set on a copy of a slice from a DataFrame.\n",
            "Try using .loc[row_indexer,col_indexer] = value instead\n",
            "\n",
            "See the caveats in the documentation: https://pandas.pydata.org/pandas-docs/stable/user_guide/indexing.html#returning-a-view-versus-a-copy\n",
            "  pre_df['Dosage_pharma'] = pre_df['Dosage_pharma_comprador'].where(pre_df['Dosage_pharma_comprador'] != 'notfound', pre_df['Dosage_pharma_proveedor'])\n"
          ]
        }
      ]
    },
    {
      "cell_type": "code",
      "source": [
        "pre_df.to_excel(\"output_presentacion.xlsx\", index=False)"
      ],
      "metadata": {
        "id": "WZUST-_fKWAp"
      },
      "execution_count": null,
      "outputs": []
    },
    {
      "cell_type": "code",
      "source": [],
      "metadata": {
        "id": "yNIsoB_2Kbks"
      },
      "execution_count": null,
      "outputs": []
    }
  ]
}